{
 "cells": [
  {
   "cell_type": "code",
   "execution_count": 4,
   "id": "84a8a690",
   "metadata": {},
   "outputs": [
    {
     "data": {
      "text/plain": [
       "['cluster_0', 'cluster_1']"
      ]
     },
     "execution_count": 4,
     "metadata": {},
     "output_type": "execute_result"
    }
   ],
   "source": [
    "import os\n",
    "\n",
    "files_count = os.listdir('clustered_data')\n",
    "len(files_count)\n",
    "files_count"
   ]
  },
  {
   "cell_type": "code",
   "execution_count": 22,
   "id": "616c7501",
   "metadata": {},
   "outputs": [],
   "source": [
    "import os\n",
    "import shutil\n",
    "import random\n",
    "\n",
    "base_data_dir = \"clustered_data\"\n",
    "\n",
    "def train_test_val_splitter(base_data_dir, train_percetnage=0, test_percentage=0, val_percentage=0):\n",
    "    folders = os.listdir(base_data_dir)\n",
    "\n",
    "    for folder in folders:\n",
    "        os.makedirs(f\"dataset_ttv/train/{folder}\", exist_ok=True)\n",
    "        os.makedirs(f\"dataset_ttv/test/{folder}\", exist_ok=True)\n",
    "        os.makedirs(f\"dataset_ttv/val/{folder}\", exist_ok=True)\n",
    "\n",
    "        source_folder = os.path.join(base_data_dir, folder)\n",
    "        all_files = os.listdir(source_folder)\n",
    "        total_images = len(all_files)\n",
    "\n",
    "        print(\"TOTAL IMAGES:\", total_images, f\"in folder: {folder}\")\n",
    "\n",
    "        train_count = round((train_percetnage / 100) * total_images)\n",
    "        test_count = round((test_percentage / 100) * total_images)\n",
    "        val_count = total_images - train_count - test_count  \n",
    "\n",
    "        random.shuffle(all_files)\n",
    "        train_files = all_files[:train_count]\n",
    "        test_files = all_files[train_count:train_count + test_count]\n",
    "        val_files = all_files[train_count + test_count:]\n",
    "\n",
    "        for file_list, split in zip([train_files, test_files, val_files], ['train', 'test', 'val']):\n",
    "            for file_name in file_list:\n",
    "                src_path = os.path.join(source_folder, file_name)\n",
    "                dest_path = os.path.join(f\"dataset_ttv/{split}/{folder}\", file_name)\n",
    "                shutil.move(src_path, dest_path)\n",
    "\n",
    "        print(f\"Moved {len(train_files)} train, {len(test_files)} test, {len(val_files)} val files for folder: {folder}\")\n",
    "\n"
   ]
  },
  {
   "cell_type": "code",
   "execution_count": 23,
   "id": "8fcdf6c6",
   "metadata": {},
   "outputs": [
    {
     "name": "stdout",
     "output_type": "stream",
     "text": [
      "TOTAL IMAGES: 3572 in folder: cluster_0\n",
      "Moved 2500 train, 536 test, 536 val files for folder: cluster_0\n",
      "TOTAL IMAGES: 2196 in folder: cluster_1\n",
      "Moved 1537 train, 329 test, 330 val files for folder: cluster_1\n"
     ]
    }
   ],
   "source": [
    "train_test_val_splitter(base_data_dir, train_percetnage=70, test_percentage=15, val_percentage=15)"
   ]
  },
  {
   "cell_type": "code",
   "execution_count": null,
   "id": "343780e7",
   "metadata": {},
   "outputs": [],
   "source": []
  }
 ],
 "metadata": {
  "kernelspec": {
   "display_name": "venv",
   "language": "python",
   "name": "python3"
  },
  "language_info": {
   "codemirror_mode": {
    "name": "ipython",
    "version": 3
   },
   "file_extension": ".py",
   "mimetype": "text/x-python",
   "name": "python",
   "nbconvert_exporter": "python",
   "pygments_lexer": "ipython3",
   "version": "3.10.6"
  }
 },
 "nbformat": 4,
 "nbformat_minor": 5
}
